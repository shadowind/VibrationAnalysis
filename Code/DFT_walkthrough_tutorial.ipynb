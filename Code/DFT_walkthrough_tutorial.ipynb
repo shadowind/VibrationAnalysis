{
 "cells": [
  {
   "cell_type": "markdown",
   "metadata": {},
   "source": [
    "The discrete Fourier transform (DFT) is one of the most powerful tools in digital signal processing.\n"
   ]
  },
  {
   "cell_type": "code",
   "execution_count": 1,
   "metadata": {
    "collapsed": true
   },
   "outputs": [],
   "source": [
    "fft_slow <- function(inputSignal,samplingFrequency = 512, display=1, title = 'Frequency domain'){\n",
    "  #define num samples as the dimention of signalIndex.\n",
    "  N = length(inputSignal)\n",
    "  \n",
    "  #perform the FFT. In this case the number of points (N) will be equal to 1000. Output will be the individual components of the FFT.\n",
    "  fourierComponents = fft(inputSignal)\n",
    "  \n",
    "  #get the absolute value of the coefficients  \n",
    "  fourierCoefficients = abs(fourierComponents)\n",
    "  \n",
    "  #Normalize coefficients  here N = 1000 samples so N/2 = 500\n",
    "  normalizedFourierComponents = fourierCoefficients / (N/2)\n",
    "  \n",
    "  bin_freq = (c(1:length(normalizedFourierComponents)) * samplingFrequency)/N #  (c(1:N/2) * samplingFrequency)/N   \n",
    "  #get the first 50 coefficients fig 6\n",
    "  range = 1:(display* length(inputSignal)/2)\n",
    "  mainCoeffs = normalizedFourierComponents[range]\n",
    "  plot(bin_freq[range],mainCoeffs,type='h', xlab='hz', ylab='Amp', main = title)\n",
    "  paste('max frequency is', round(bin_freq[which(mainCoeffs==max(mainCoeffs))],2))\n",
    "  \n",
    "}"
   ]
  },
  {
   "cell_type": "code",
   "execution_count": 2,
   "metadata": {
    "collapsed": false
   },
   "outputs": [
    {
     "data": {
      "text/html": [
       "'max frequency is 0.6'"
      ],
      "text/latex": [
       "'max frequency is 0.6'"
      ],
      "text/markdown": [
       "'max frequency is 0.6'"
      ],
      "text/plain": [
       "[1] \"max frequency is 0.6\""
      ]
     },
     "metadata": {},
     "output_type": "display_data"
    },
    {
     "data": {
      "text/html": [
       "'max frequency is 0.6'"
      ],
      "text/latex": [
       "'max frequency is 0.6'"
      ],
      "text/markdown": [
       "'max frequency is 0.6'"
      ],
      "text/plain": [
       "[1] \"max frequency is 0.6\""
      ]
     },
     "metadata": {},
     "output_type": "display_data"
    },
    {
     "data": {
      "text/html": [
       "'max frequency is 0.6'"
      ],
      "text/latex": [
       "'max frequency is 0.6'"
      ],
      "text/markdown": [
       "'max frequency is 0.6'"
      ],
      "text/plain": [
       "[1] \"max frequency is 0.6\""
      ]
     },
     "metadata": {},
     "output_type": "display_data"
    },
    {
     "data": {
      "image/png": "[encoded data removed]",
      "text/plain": [
       "Plot with title \"C\""
      ]
     },
     "metadata": {},
     "output_type": "display_data"
    }
   ],
   "source": [
    "# set plot display\n",
    "par(mfrow=c(2,3))\n",
    "\n",
    "# set the sampling frequency\n",
    "samplingFrequency = 50\n",
    "timeInterval = 1/samplingFrequency\n",
    "timeIndex = seq(0,10,timeInterval)\n",
    "a1 = 4\n",
    "# Frequency of signal\n",
    "freq1 = 0.5\n",
    "signA = a1 * sin(2*pi*freq1*timeIndex)\n",
    "plot(signA, type = 'l', main = 'Base Signal')\n",
    "\n",
    "a2 = 0.5\n",
    "freq2 = 20\n",
    "noise = a2 * sin(2 * pi*freq2 * timeIndex)\n",
    "\n",
    "# Fourier Series only holds while the system is linear. The superposition principle,[1] also known as superposition property, states that, for all linear systems, the net response caused by two or more stimuli is the sum of the responses that would have been caused by each stimulus individually. So that if input A produces response X and input B produces response Y then input (A + B) produces response (X + Y). Therefore, if a thresholdhing exist, FFT does not fit for this scenario\n",
    "signB = signA +noise\n",
    "signB[signB>3] =3\n",
    "plot(signB, type = 'l', main = 'with noise')\n",
    "noise[1:100] = 0\n",
    "noise[200:501] =0\n",
    "signC = signA +noise\n",
    "plot(signC, type = 'l', main = 'with noise only in the middle')\n",
    "\n",
    "fft_slow(signA, samplingFrequency = 50, title = 'A')\n",
    "fft_slow(signB, samplingFrequency = 50,title ='B')\n",
    "fft_slow(signC, samplingFrequency = 50,title ='C')\n",
    "# If I only have a part of the signal contains error, then fft also won't work"
   ]
  },
  {
   "cell_type": "code",
   "execution_count": null,
   "metadata": {
    "collapsed": true
   },
   "outputs": [],
   "source": []
  }
 ],
 "metadata": {
  "anaconda-cloud": {},
  "kernelspec": {
   "display_name": "R",
   "language": "R",
   "name": "ir"
  },
  "language_info": {
   "codemirror_mode": "r",
   "file_extension": ".r",
   "mimetype": "text/x-r-source",
   "name": "R",
   "pygments_lexer": "r",
   "version": "3.4.4"
  }
 },
 "nbformat": 4,
 "nbformat_minor": 2
}
